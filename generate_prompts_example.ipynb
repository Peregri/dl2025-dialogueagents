{
 "cells": [
  {
   "cell_type": "code",
   "execution_count": 1,
   "metadata": {},
   "outputs": [],
   "source": [
    "import json\n",
    "import os"
   ]
  },
  {
   "cell_type": "code",
   "execution_count": 2,
   "metadata": {},
   "outputs": [],
   "source": [
    "def lines_to_text(dialogue_lines):\n",
    "    return \"\\n\".join([d[\"character\"] + \": \" + d[\"dialogue\"] for d in dialogue_lines])\n",
    "\n",
    "def create_prompts(annotation_dir, n_lines):\n",
    "    with open(annotation_dir, 'r') as file:\n",
    "        jdata = json.load(file)\n",
    "\n",
    "    character_info = jdata[0]['All Characters']\n",
    "    dialoguelist = jdata[1:]\n",
    "\n",
    "    dataset = []\n",
    "    n_lines = 1\n",
    "\n",
    "    for section in dialoguelist:\n",
    "        characters = section[\"characters\"]\n",
    "\n",
    "        character_descriptions = \"\"\n",
    "        for char in characters:\n",
    "            if char in character_info:\n",
    "                character_descriptions += char + \": \" + character_info[char] + '\\n'\n",
    "        \n",
    "        dialogue_history = []\n",
    "        dialogue_lines = section[\"dialogue\"]\n",
    "\n",
    "        for i in range(1, len(dialogue_lines)-n_lines):\n",
    "            history = lines_to_text(dialogue_lines[max(0,i-10):i])\n",
    "\n",
    "            prompt_text = (\"[INST] Character Info: \" + character_descriptions + \"\\n\\n\"\n",
    "                        + \"Dialogue History: \" + history + '\\n\\n'\n",
    "                        + \"Instruction: Continue the dialogue for \" + str(n_lines) + \" lines. \\n [/INST]\")\n",
    "            ground_truth = lines_to_text(dialogue_lines[i:i+n_lines])\n",
    "            \n",
    "            dataset.append({\"prompt\": prompt_text, \"ground_truth\": ground_truth})\n",
    "    return dataset\n",
    "# for file in os.listdir('./'):\n",
    "\n"
   ]
  },
  {
   "cell_type": "code",
   "execution_count": 11,
   "metadata": {},
   "outputs": [],
   "source": [
    "n_lines = 3\n",
    "full_dataset = []\n",
    "for filename in os.listdir('./data/'):\n",
    "    if 'annotated' not in filename:\n",
    "        continue\n",
    "    full_path = './data/' + filename\n",
    "    output_path = full_path.split('conversations')\n",
    "    output_path[1] = output_path[1].split('_annotated')[0]\n",
    "    output_path = output_path[0] + f'partial_prompts/prompts_n{n_lines}' + output_path[1] + '.json'\n",
    "    dataset = create_prompts(full_path, n_lines)\n",
    "    with open(output_path, 'w') as f:\n",
    "        json.dump(dataset, f, indent=4)\n",
    "    full_dataset += dataset\n",
    "with open(f'./data/prompts_full_n{n_lines}.json', 'w') as f:\n",
    "    json.dump(full_dataset, f, indent=4)"
   ]
  },
  {
   "cell_type": "code",
   "execution_count": 3,
   "metadata": {},
   "outputs": [],
   "source": [
    "import random\n",
    "n_lines = 1\n",
    "full_dataset = []\n",
    "for filename in os.listdir('./data/'):\n",
    "    if 'annotated' not in filename:\n",
    "        continue\n",
    "    full_path = './data/' + filename\n",
    "    output_path = full_path.split('conversations')\n",
    "    output_path[1] = output_path[1].split('_annotated')[0]\n",
    "    output_path = output_path[0] + f'partial_prompts/prompts_n{n_lines}' + output_path[1] + '.json'\n",
    "    dataset = random.sample(create_prompts(full_path, n_lines),10)\n",
    "    with open(output_path, 'w') as f:\n",
    "        json.dump(dataset, f, indent=4)\n",
    "    full_dataset += dataset\n",
    "with open(f'./data/prompts_sample_n{n_lines}.json', 'w') as f:\n",
    "    json.dump(full_dataset, f, indent=4)"
   ]
  }
 ],
 "metadata": {
  "kernelspec": {
   "display_name": "Python 3",
   "language": "python",
   "name": "python3"
  },
  "language_info": {
   "codemirror_mode": {
    "name": "ipython",
    "version": 3
   },
   "file_extension": ".py",
   "mimetype": "text/x-python",
   "name": "python",
   "nbconvert_exporter": "python",
   "pygments_lexer": "ipython3",
   "version": "3.9.19"
  }
 },
 "nbformat": 4,
 "nbformat_minor": 2
}
