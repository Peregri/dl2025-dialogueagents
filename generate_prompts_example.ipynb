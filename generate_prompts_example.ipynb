{
 "cells": [
  {
   "cell_type": "code",
   "execution_count": 29,
   "metadata": {},
   "outputs": [],
   "source": [
    "import json\n",
    "import os"
   ]
  },
  {
   "cell_type": "code",
   "execution_count": null,
   "metadata": {},
   "outputs": [],
   "source": [
    "def lines_to_text(dialogue_lines):\n",
    "    return \"\\n\".join([d[\"character\"] + \": \" + d[\"dialogue\"] for d in dialogue_lines])\n",
    "\n",
    "def create_prompts(annotation_dir, n_lines):\n",
    "    with open(annotation_dir, 'r') as file:\n",
    "        jdata = json.load(file)\n",
    "\n",
    "    character_info = jdata[0]['All Characters']\n",
    "    # print(character_info['Beaver'])\n",
    "\n",
    "    dialoguelist = jdata[1:]\n",
    "    # print(dialoguelist[0])\n",
    "\n",
    "    dataset = []\n",
    "    n_lines = 1\n",
    "\n",
    "    for section in dialoguelist:\n",
    "        characters = section[\"characters\"]\n",
    "\n",
    "        character_descriptions = \"\"\n",
    "        for char in characters:\n",
    "            if char in character_info:\n",
    "                character_descriptions += char + \": \" + character_info[char] + '\\n'\n",
    "        \n",
    "        dialogue_history = []\n",
    "        dialogue_lines = section[\"dialogue\"]\n",
    "\n",
    "        for i in range(1, len(dialogue_lines)-n_lines):\n",
    "            history = lines_to_text(dialogue_lines[:i])\n",
    "\n",
    "            prompt_text = (\"Character Info: \" + character_descriptions + \"\\n\"\n",
    "                        + \"Dialogue History: \" + history + '\\n'\n",
    "                        + \"Instruction: Continue the dialogue for \" + str(n_lines) + \" lines.\")\n",
    "            ground_truth = lines_to_text(dialogue_lines[i:i+n_lines])\n",
    "            \n",
    "            dataset.append({\"prompt\": prompt_text, \"ground_truth\": ground_truth})\n",
    "\n",
    "# for file in os.listdir('./'):\n",
    "\n"
   ]
  },
  {
   "cell_type": "code",
   "execution_count": 25,
   "metadata": {},
   "outputs": [
    {
     "name": "stdout",
     "output_type": "stream",
     "text": [
      "Character Info: Mrs. Beaver: A practical, somewhat opportunistic social climber who profits from society's misfortunes. She represents the materialism and opportunism of the time.\n",
      "John Beaver: A cold and opportunistic social climber who begins an affair with Brenda Last, ultimately contributing to Tony's personal collapse.\n",
      "\n",
      "Dialogue History: John Beaver: Was anyone hurt?\n",
      "Instruction: Continue the dialogue for 1 lines.\n",
      "Mrs. Beaver: No one, I am thankful to say, except two housemaids who lost their heads and jumped through a glass roof into the paved court. They were in no danger. The fire never reached the bedrooms, I am afraid. Still, they are bound to need doing up, everything black with smoke and drenched in water and luckily they had that old-fashioned sort of extinguisher that ruins _everything_. One really cannot complain. The chief rooms were _completely_ gutted and everything was insured. Sylvia Newport knows the people. I must get on to them this morning before that ghoul Mrs Shutter snaps them up.\n"
     ]
    }
   ],
   "source": [
    "print(dataset[0]['prompt'])\n",
    "print(dataset[0]['ground_truth'])"
   ]
  },
  {
   "cell_type": "code",
   "execution_count": 26,
   "metadata": {},
   "outputs": [
    {
     "name": "stdout",
     "output_type": "stream",
     "text": [
      "1567\n"
     ]
    }
   ],
   "source": [
    "print(len(dataset))"
   ]
  },
  {
   "cell_type": "code",
   "execution_count": 28,
   "metadata": {},
   "outputs": [],
   "source": [
    "OUTPUT_FILE = f\"prompts_AHandfulOfDust_n{n_lines}.json\"\n",
    "with open(OUTPUT_FILE, 'w') as f:\n",
    "    json.dump(dataset, f, indent=4)"
   ]
  }
 ],
 "metadata": {
  "kernelspec": {
   "display_name": "Python 3",
   "language": "python",
   "name": "python3"
  },
  "language_info": {
   "codemirror_mode": {
    "name": "ipython",
    "version": 3
   },
   "file_extension": ".py",
   "mimetype": "text/x-python",
   "name": "python",
   "nbconvert_exporter": "python",
   "pygments_lexer": "ipython3",
   "version": "3.9.19"
  }
 },
 "nbformat": 4,
 "nbformat_minor": 2
}
